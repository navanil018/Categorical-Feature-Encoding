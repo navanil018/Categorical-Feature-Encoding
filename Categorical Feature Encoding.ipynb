{
 "cells": [
  {
   "cell_type": "code",
   "execution_count": 74,
   "metadata": {},
   "outputs": [],
   "source": [
    "import pandas as pd\n",
    "import numpy as np\n",
    "import matplotlib.pyplot as plt\n",
    "from sklearn.model_selection import train_test_split\n",
    "from sklearn.linear_model import LogisticRegression\n",
    "from sklearn.metrics import accuracy_score\n",
    "from sklearn.model_selection import KFold\n",
    "import numpy as np"
   ]
  },
  {
   "cell_type": "code",
   "execution_count": 75,
   "metadata": {},
   "outputs": [
    {
     "name": "stdout",
     "output_type": "stream",
     "text": [
      "(300000, 25) (200000, 24)\n"
     ]
    }
   ],
   "source": [
    "df_train = pd.read_csv(\"train.csv\")\n",
    "df_test = pd.read_csv(\"Test.csv\")\n",
    "print(train_data.shape, test_data.shape)"
   ]
  },
  {
   "cell_type": "code",
   "execution_count": 76,
   "metadata": {},
   "outputs": [
    {
     "name": "stdout",
     "output_type": "stream",
     "text": [
      "train data set has got 300000 rows and 25 columns\n",
      "test data set has got 200000 rows and 24 columns\n"
     ]
    }
   ],
   "source": [
    "print('train data set has got {} rows and {} columns'.format(df_train.shape[0],df_train.shape[1]))\n",
    "print('test data set has got {} rows and {} columns'.format(df_test.shape[0],df_test.shape[1]))"
   ]
  },
  {
   "cell_type": "code",
   "execution_count": 77,
   "metadata": {},
   "outputs": [
    {
     "name": "stdout",
     "output_type": "stream",
     "text": [
      "<class 'pandas.core.frame.DataFrame'>\n",
      "RangeIndex: 300000 entries, 0 to 299999\n",
      "Data columns (total 25 columns):\n",
      "id        300000 non-null int64\n",
      "bin_0     300000 non-null int64\n",
      "bin_1     300000 non-null int64\n",
      "bin_2     300000 non-null int64\n",
      "bin_3     300000 non-null object\n",
      "bin_4     300000 non-null object\n",
      "nom_0     300000 non-null object\n",
      "nom_1     300000 non-null object\n",
      "nom_2     300000 non-null object\n",
      "nom_3     300000 non-null object\n",
      "nom_4     300000 non-null object\n",
      "nom_5     300000 non-null object\n",
      "nom_6     300000 non-null object\n",
      "nom_7     300000 non-null object\n",
      "nom_8     300000 non-null object\n",
      "nom_9     300000 non-null object\n",
      "ord_0     300000 non-null int64\n",
      "ord_1     300000 non-null object\n",
      "ord_2     300000 non-null object\n",
      "ord_3     300000 non-null object\n",
      "ord_4     300000 non-null object\n",
      "ord_5     300000 non-null object\n",
      "day       300000 non-null int64\n",
      "month     300000 non-null int64\n",
      "target    300000 non-null int64\n",
      "dtypes: int64(8), object(17)\n",
      "memory usage: 57.2+ MB\n"
     ]
    }
   ],
   "source": [
    "df_train.info()"
   ]
  },
  {
   "cell_type": "code",
   "execution_count": 78,
   "metadata": {},
   "outputs": [],
   "source": [
    "X=df_train.drop(['target'],axis=1)\n",
    "y=df_train['target']"
   ]
  },
  {
   "cell_type": "code",
   "execution_count": 79,
   "metadata": {},
   "outputs": [
    {
     "data": {
      "image/png": "[encoded data removed]",
      "text/plain": [
       "<Figure size 432x288 with 1 Axes>"
      ]
     },
     "metadata": {
      "needs_background": "light"
     },
     "output_type": "display_data"
    }
   ],
   "source": [
    "x=y.value_counts()\n",
    "plt.bar(x.index,x)\n",
    "plt.gca().set_xticks([0,1])\n",
    "plt.title('distribution of target variable')\n",
    "plt.show()"
   ]
  },
  {
   "cell_type": "raw",
   "metadata": {},
   "source": [
    "Before getting into encoding,I will just breif you with types data variables present in this data:\n",
    "\n",
    "Binary data : A binary variable a variable that has only 2 values..ie 0/1\n",
    "Categorical data : A categorical variable is a variable that can take some limited number of values.for example,day of the week.It can be one of 1,2,3,4,5,6,7 only.\n",
    "Ordinal data : An ordinal variable is a categorical variable that has some order associated with it.for example,the ratings that are given to a movie by a user.\n",
    "Nominal data : Nominal value is a variable that has no numerical importance,such as occupation,person name etc..\n",
    "Timeseries data : Time series data has a temporal value attached to it, so this would be something like a date or a time stamp that you can look for trends in time."
   ]
  },
  {
   "cell_type": "raw",
   "metadata": {},
   "source": [
    "Method 1: Label encoding \n",
    "In this method we change every categorical data to a number.That is each type will be subtuted by a number.for example we will substitute 1 for Grandmaster,2 for master ,3 for expert etc.. For implementing this we will first import Labelencoder from sklearn module."
   ]
  },
  {
   "cell_type": "code",
   "execution_count": 80,
   "metadata": {},
   "outputs": [],
   "source": [
    "from sklearn.preprocessing import LabelEncoder"
   ]
  },
  {
   "cell_type": "code",
   "execution_count": 81,
   "metadata": {},
   "outputs": [
    {
     "name": "stdout",
     "output_type": "stream",
     "text": [
      "Wall time: 1.5 s\n"
     ]
    },
    {
     "data": {
      "text/html": [
       "<div>\n",
       "<style scoped>\n",
       "    .dataframe tbody tr th:only-of-type {\n",
       "        vertical-align: middle;\n",
       "    }\n",
       "\n",
       "    .dataframe tbody tr th {\n",
       "        vertical-align: top;\n",
       "    }\n",
       "\n",
       "    .dataframe thead th {\n",
       "        text-align: right;\n",
       "    }\n",
       "</style>\n",
       "<table border=\"1\" class=\"dataframe\">\n",
       "  <thead>\n",
       "    <tr style=\"text-align: right;\">\n",
       "      <th></th>\n",
       "      <th>id</th>\n",
       "      <th>bin_0</th>\n",
       "      <th>bin_1</th>\n",
       "      <th>bin_2</th>\n",
       "      <th>bin_3</th>\n",
       "      <th>bin_4</th>\n",
       "      <th>nom_0</th>\n",
       "      <th>nom_1</th>\n",
       "      <th>nom_2</th>\n",
       "      <th>nom_3</th>\n",
       "      <th>...</th>\n",
       "      <th>nom_8</th>\n",
       "      <th>nom_9</th>\n",
       "      <th>ord_0</th>\n",
       "      <th>ord_1</th>\n",
       "      <th>ord_2</th>\n",
       "      <th>ord_3</th>\n",
       "      <th>ord_4</th>\n",
       "      <th>ord_5</th>\n",
       "      <th>day</th>\n",
       "      <th>month</th>\n",
       "    </tr>\n",
       "  </thead>\n",
       "  <tbody>\n",
       "    <tr>\n",
       "      <th>0</th>\n",
       "      <td>0</td>\n",
       "      <td>0</td>\n",
       "      <td>0</td>\n",
       "      <td>0</td>\n",
       "      <td>1</td>\n",
       "      <td>1</td>\n",
       "      <td>1</td>\n",
       "      <td>5</td>\n",
       "      <td>5</td>\n",
       "      <td>3</td>\n",
       "      <td>...</td>\n",
       "      <td>1686</td>\n",
       "      <td>2175</td>\n",
       "      <td>2</td>\n",
       "      <td>2</td>\n",
       "      <td>1</td>\n",
       "      <td>7</td>\n",
       "      <td>3</td>\n",
       "      <td>136</td>\n",
       "      <td>2</td>\n",
       "      <td>2</td>\n",
       "    </tr>\n",
       "    <tr>\n",
       "      <th>1</th>\n",
       "      <td>1</td>\n",
       "      <td>0</td>\n",
       "      <td>1</td>\n",
       "      <td>0</td>\n",
       "      <td>1</td>\n",
       "      <td>1</td>\n",
       "      <td>1</td>\n",
       "      <td>4</td>\n",
       "      <td>3</td>\n",
       "      <td>5</td>\n",
       "      <td>...</td>\n",
       "      <td>650</td>\n",
       "      <td>11635</td>\n",
       "      <td>1</td>\n",
       "      <td>2</td>\n",
       "      <td>3</td>\n",
       "      <td>0</td>\n",
       "      <td>0</td>\n",
       "      <td>93</td>\n",
       "      <td>7</td>\n",
       "      <td>8</td>\n",
       "    </tr>\n",
       "    <tr>\n",
       "      <th>2</th>\n",
       "      <td>2</td>\n",
       "      <td>0</td>\n",
       "      <td>0</td>\n",
       "      <td>0</td>\n",
       "      <td>0</td>\n",
       "      <td>1</td>\n",
       "      <td>0</td>\n",
       "      <td>4</td>\n",
       "      <td>4</td>\n",
       "      <td>5</td>\n",
       "      <td>...</td>\n",
       "      <td>1932</td>\n",
       "      <td>8078</td>\n",
       "      <td>1</td>\n",
       "      <td>1</td>\n",
       "      <td>4</td>\n",
       "      <td>7</td>\n",
       "      <td>17</td>\n",
       "      <td>31</td>\n",
       "      <td>7</td>\n",
       "      <td>2</td>\n",
       "    </tr>\n",
       "  </tbody>\n",
       "</table>\n",
       "<p>3 rows × 24 columns</p>\n",
       "</div>"
      ],
      "text/plain": [
       "   id  bin_0  bin_1  bin_2  bin_3  bin_4  nom_0  nom_1  nom_2  nom_3  ...  \\\n",
       "0   0      0      0      0      1      1      1      5      5      3  ...   \n",
       "1   1      0      1      0      1      1      1      4      3      5  ...   \n",
       "2   2      0      0      0      0      1      0      4      4      5  ...   \n",
       "\n",
       "   nom_8  nom_9  ord_0  ord_1  ord_2  ord_3  ord_4  ord_5  day  month  \n",
       "0   1686   2175      2      2      1      7      3    136    2      2  \n",
       "1    650  11635      1      2      3      0      0     93    7      8  \n",
       "2   1932   8078      1      1      4      7     17     31    7      2  \n",
       "\n",
       "[3 rows x 24 columns]"
      ]
     },
     "execution_count": 81,
     "metadata": {},
     "output_type": "execute_result"
    }
   ],
   "source": [
    "%%time\n",
    "\n",
    "train=pd.DataFrame()\n",
    "label=LabelEncoder()\n",
    "for c in  X.columns:\n",
    "    if(X[c].dtype=='object'):\n",
    "        train[c]=label.fit_transform(X[c])\n",
    "    else:\n",
    "        train[c]=X[c]\n",
    "        \n",
    "train.head(3) "
   ]
  },
  {
   "cell_type": "code",
   "execution_count": 82,
   "metadata": {},
   "outputs": [],
   "source": [
    "def logistic(X,y):\n",
    "    X_train,X_test,y_train,y_test=train_test_split(X,y,random_state=42,test_size=0.2)\n",
    "    lr=LogisticRegression()\n",
    "    lr.fit(X_train,y_train)\n",
    "    y_pre=lr.predict(X_test)\n",
    "    print('Accuracy : ',accuracy_score(y_test,y_pre))"
   ]
  },
  {
   "cell_type": "code",
   "execution_count": 83,
   "metadata": {},
   "outputs": [
    {
     "name": "stderr",
     "output_type": "stream",
     "text": [
      "C:\\Users\\Navanil\\Anaconda3\\lib\\site-packages\\sklearn\\linear_model\\logistic.py:432: FutureWarning: Default solver will be changed to 'lbfgs' in 0.22. Specify a solver to silence this warning.\n",
      "  FutureWarning)\n"
     ]
    },
    {
     "name": "stdout",
     "output_type": "stream",
     "text": [
      "Accuracy :  0.6889833333333333\n"
     ]
    }
   ],
   "source": [
    "logistic(train,y)\n"
   ]
  },
  {
   "cell_type": "code",
   "execution_count": 84,
   "metadata": {},
   "outputs": [],
   "source": [
    "from sklearn.preprocessing import OneHotEncoder"
   ]
  },
  {
   "cell_type": "code",
   "execution_count": 85,
   "metadata": {},
   "outputs": [
    {
     "name": "stdout",
     "output_type": "stream",
     "text": [
      "train data set has got 300000 rows and 316461 columns\n",
      "Wall time: 2.58 s\n"
     ]
    }
   ],
   "source": [
    "%%time \n",
    "\n",
    "one=OneHotEncoder()\n",
    "\n",
    "one.fit(X)\n",
    "train=one.transform(X)\n",
    "\n",
    "print('train data set has got {} rows and {} columns'.format(train.shape[0],train.shape[1]))"
   ]
  },
  {
   "cell_type": "code",
   "execution_count": 86,
   "metadata": {},
   "outputs": [
    {
     "name": "stderr",
     "output_type": "stream",
     "text": [
      "C:\\Users\\Navanil\\Anaconda3\\lib\\site-packages\\sklearn\\linear_model\\logistic.py:432: FutureWarning: Default solver will be changed to 'lbfgs' in 0.22. Specify a solver to silence this warning.\n",
      "  FutureWarning)\n"
     ]
    },
    {
     "name": "stdout",
     "output_type": "stream",
     "text": [
      "Accuracy :  0.7593333333333333\n"
     ]
    }
   ],
   "source": [
    "logistic(train,y)"
   ]
  },
  {
   "cell_type": "code",
   "execution_count": 87,
   "metadata": {},
   "outputs": [],
   "source": [
    "from sklearn.feature_extraction import FeatureHasher"
   ]
  },
  {
   "cell_type": "code",
   "execution_count": 88,
   "metadata": {},
   "outputs": [
    {
     "name": "stdout",
     "output_type": "stream",
     "text": [
      "Wall time: 9.84 s\n"
     ]
    }
   ],
   "source": [
    "%%time\n",
    "\n",
    "X_train_hash=X.copy()\n",
    "for c in X.columns:\n",
    "    X_train_hash[c]=X[c].astype('str')      \n",
    "hashing=FeatureHasher(input_type='string')\n",
    "train=hashing.transform(X_train_hash.values)"
   ]
  },
  {
   "cell_type": "code",
   "execution_count": 89,
   "metadata": {},
   "outputs": [
    {
     "name": "stdout",
     "output_type": "stream",
     "text": [
      "train data set has got 300000 rows and 1048576 columns\n"
     ]
    }
   ],
   "source": [
    "print('train data set has got {} rows and {} columns'.format(train.shape[0],train.shape[1]))\n"
   ]
  },
  {
   "cell_type": "code",
   "execution_count": 90,
   "metadata": {},
   "outputs": [
    {
     "name": "stdout",
     "output_type": "stream",
     "text": [
      "Accuracy :  0.7512\n"
     ]
    }
   ],
   "source": [
    "logistic(train,y)"
   ]
  },
  {
   "cell_type": "code",
   "execution_count": 91,
   "metadata": {},
   "outputs": [
    {
     "name": "stdout",
     "output_type": "stream",
     "text": [
      "Wall time: 1.3 s\n"
     ]
    }
   ],
   "source": [
    "\n",
    "%%time\n",
    "\n",
    "X_train_stat=X.copy()\n",
    "for c in X_train_stat.columns:\n",
    "    if(X_train_stat[c].dtype=='object'):\n",
    "        X_train_stat[c]=X_train_stat[c].astype('category')\n",
    "        counts=X_train_stat[c].value_counts()\n",
    "        counts=counts.sort_index()\n",
    "        counts=counts.fillna(0)\n",
    "        counts += np.random.rand(len(counts))/1000\n",
    "        X_train_stat[c].cat.categories=counts"
   ]
  },
  {
   "cell_type": "code",
   "execution_count": 92,
   "metadata": {},
   "outputs": [
    {
     "data": {
      "text/html": [
       "<div>\n",
       "<style scoped>\n",
       "    .dataframe tbody tr th:only-of-type {\n",
       "        vertical-align: middle;\n",
       "    }\n",
       "\n",
       "    .dataframe tbody tr th {\n",
       "        vertical-align: top;\n",
       "    }\n",
       "\n",
       "    .dataframe thead th {\n",
       "        text-align: right;\n",
       "    }\n",
       "</style>\n",
       "<table border=\"1\" class=\"dataframe\">\n",
       "  <thead>\n",
       "    <tr style=\"text-align: right;\">\n",
       "      <th></th>\n",
       "      <th>id</th>\n",
       "      <th>bin_0</th>\n",
       "      <th>bin_1</th>\n",
       "      <th>bin_2</th>\n",
       "      <th>bin_3</th>\n",
       "      <th>bin_4</th>\n",
       "      <th>nom_0</th>\n",
       "      <th>nom_1</th>\n",
       "      <th>nom_2</th>\n",
       "      <th>nom_3</th>\n",
       "      <th>...</th>\n",
       "      <th>nom_8</th>\n",
       "      <th>nom_9</th>\n",
       "      <th>ord_0</th>\n",
       "      <th>ord_1</th>\n",
       "      <th>ord_2</th>\n",
       "      <th>ord_3</th>\n",
       "      <th>ord_4</th>\n",
       "      <th>ord_5</th>\n",
       "      <th>day</th>\n",
       "      <th>month</th>\n",
       "    </tr>\n",
       "  </thead>\n",
       "  <tbody>\n",
       "    <tr>\n",
       "      <th>0</th>\n",
       "      <td>0</td>\n",
       "      <td>0</td>\n",
       "      <td>0</td>\n",
       "      <td>0</td>\n",
       "      <td>153535.000531</td>\n",
       "      <td>191633.000438</td>\n",
       "      <td>127341.000313</td>\n",
       "      <td>29855.000057</td>\n",
       "      <td>45979.000040</td>\n",
       "      <td>36942.000539</td>\n",
       "      <td>...</td>\n",
       "      <td>271.000451</td>\n",
       "      <td>19.000515</td>\n",
       "      <td>2</td>\n",
       "      <td>77428.000073</td>\n",
       "      <td>33768.000076</td>\n",
       "      <td>24740.000241</td>\n",
       "      <td>3974.000945</td>\n",
       "      <td>506.000539</td>\n",
       "      <td>2</td>\n",
       "      <td>2</td>\n",
       "    </tr>\n",
       "    <tr>\n",
       "      <th>1</th>\n",
       "      <td>1</td>\n",
       "      <td>0</td>\n",
       "      <td>1</td>\n",
       "      <td>0</td>\n",
       "      <td>153535.000531</td>\n",
       "      <td>191633.000438</td>\n",
       "      <td>127341.000313</td>\n",
       "      <td>101181.000914</td>\n",
       "      <td>29487.000146</td>\n",
       "      <td>101123.000108</td>\n",
       "      <td>...</td>\n",
       "      <td>111.000358</td>\n",
       "      <td>13.000084</td>\n",
       "      <td>1</td>\n",
       "      <td>77428.000073</td>\n",
       "      <td>22227.000683</td>\n",
       "      <td>35276.000816</td>\n",
       "      <td>18258.000158</td>\n",
       "      <td>2603.000580</td>\n",
       "      <td>7</td>\n",
       "      <td>8</td>\n",
       "    </tr>\n",
       "    <tr>\n",
       "      <th>2</th>\n",
       "      <td>2</td>\n",
       "      <td>0</td>\n",
       "      <td>0</td>\n",
       "      <td>0</td>\n",
       "      <td>146465.000720</td>\n",
       "      <td>191633.000438</td>\n",
       "      <td>96166.000417</td>\n",
       "      <td>101181.000914</td>\n",
       "      <td>101295.000580</td>\n",
       "      <td>101123.000108</td>\n",
       "      <td>...</td>\n",
       "      <td>278.000560</td>\n",
       "      <td>29.000844</td>\n",
       "      <td>1</td>\n",
       "      <td>25065.000666</td>\n",
       "      <td>63908.000961</td>\n",
       "      <td>24740.000241</td>\n",
       "      <td>16927.000551</td>\n",
       "      <td>2572.000952</td>\n",
       "      <td>7</td>\n",
       "      <td>2</td>\n",
       "    </tr>\n",
       "  </tbody>\n",
       "</table>\n",
       "<p>3 rows × 24 columns</p>\n",
       "</div>"
      ],
      "text/plain": [
       "   id  bin_0  bin_1  bin_2          bin_3          bin_4          nom_0  \\\n",
       "0   0      0      0      0  153535.000531  191633.000438  127341.000313   \n",
       "1   1      0      1      0  153535.000531  191633.000438  127341.000313   \n",
       "2   2      0      0      0  146465.000720  191633.000438   96166.000417   \n",
       "\n",
       "           nom_1          nom_2          nom_3  ...       nom_8      nom_9  \\\n",
       "0   29855.000057   45979.000040   36942.000539  ...  271.000451  19.000515   \n",
       "1  101181.000914   29487.000146  101123.000108  ...  111.000358  13.000084   \n",
       "2  101181.000914  101295.000580  101123.000108  ...  278.000560  29.000844   \n",
       "\n",
       "  ord_0         ord_1         ord_2         ord_3         ord_4        ord_5  \\\n",
       "0     2  77428.000073  33768.000076  24740.000241   3974.000945   506.000539   \n",
       "1     1  77428.000073  22227.000683  35276.000816  18258.000158  2603.000580   \n",
       "2     1  25065.000666  63908.000961  24740.000241  16927.000551  2572.000952   \n",
       "\n",
       "  day month  \n",
       "0   2     2  \n",
       "1   7     8  \n",
       "2   7     2  \n",
       "\n",
       "[3 rows x 24 columns]"
      ]
     },
     "execution_count": 92,
     "metadata": {},
     "output_type": "execute_result"
    }
   ],
   "source": [
    "X_train_stat.head(3)"
   ]
  },
  {
   "cell_type": "code",
   "execution_count": 93,
   "metadata": {},
   "outputs": [
    {
     "name": "stdout",
     "output_type": "stream",
     "text": [
      "train data set has got 300000 rows and 24 columns\n"
     ]
    }
   ],
   "source": [
    "print('train data set has got {} rows and {} columns'.format(X_train_stat.shape[0],X_train_stat.shape[1]))"
   ]
  },
  {
   "cell_type": "code",
   "execution_count": 94,
   "metadata": {},
   "outputs": [
    {
     "name": "stdout",
     "output_type": "stream",
     "text": [
      "Accuracy :  0.6946166666666667\n"
     ]
    }
   ],
   "source": [
    "logistic(X_train_stat,y)"
   ]
  },
  {
   "cell_type": "code",
   "execution_count": 95,
   "metadata": {},
   "outputs": [
    {
     "name": "stdout",
     "output_type": "stream",
     "text": [
      "Wall time: 770 ms\n"
     ]
    },
    {
     "data": {
      "text/html": [
       "<div>\n",
       "<style scoped>\n",
       "    .dataframe tbody tr th:only-of-type {\n",
       "        vertical-align: middle;\n",
       "    }\n",
       "\n",
       "    .dataframe tbody tr th {\n",
       "        vertical-align: top;\n",
       "    }\n",
       "\n",
       "    .dataframe thead th {\n",
       "        text-align: right;\n",
       "    }\n",
       "</style>\n",
       "<table border=\"1\" class=\"dataframe\">\n",
       "  <thead>\n",
       "    <tr style=\"text-align: right;\">\n",
       "      <th></th>\n",
       "      <th>day_sin</th>\n",
       "      <th>day_cos</th>\n",
       "    </tr>\n",
       "  </thead>\n",
       "  <tbody>\n",
       "    <tr>\n",
       "      <th>0</th>\n",
       "      <td>9.749279e-01</td>\n",
       "      <td>-0.222521</td>\n",
       "    </tr>\n",
       "    <tr>\n",
       "      <th>1</th>\n",
       "      <td>-2.449294e-16</td>\n",
       "      <td>1.000000</td>\n",
       "    </tr>\n",
       "    <tr>\n",
       "      <th>2</th>\n",
       "      <td>-2.449294e-16</td>\n",
       "      <td>1.000000</td>\n",
       "    </tr>\n",
       "  </tbody>\n",
       "</table>\n",
       "</div>"
      ],
      "text/plain": [
       "        day_sin   day_cos\n",
       "0  9.749279e-01 -0.222521\n",
       "1 -2.449294e-16  1.000000\n",
       "2 -2.449294e-16  1.000000"
      ]
     },
     "execution_count": 95,
     "metadata": {},
     "output_type": "execute_result"
    }
   ],
   "source": [
    "%%time\n",
    "\n",
    "X_train_cyclic=X.copy()\n",
    "columns=['day','month']\n",
    "for col in columns:\n",
    "    X_train_cyclic[col+'_sin']=np.sin((2*np.pi*X_train_cyclic[col])/max(X_train_cyclic[col]))\n",
    "    X_train_cyclic[col+'_cos']=np.cos((2*np.pi*X_train_cyclic[col])/max(X_train_cyclic[col]))\n",
    "X_train_cyclic=X_train_cyclic.drop(columns,axis=1)\n",
    "\n",
    "X_train_cyclic[['day_sin','day_cos']].head(3)"
   ]
  },
  {
   "cell_type": "code",
   "execution_count": 96,
   "metadata": {},
   "outputs": [
    {
     "name": "stdout",
     "output_type": "stream",
     "text": [
      "train data set has got 300000 rows and 316478 columns\n"
     ]
    }
   ],
   "source": [
    "one=OneHotEncoder()\n",
    "\n",
    "one.fit(X_train_cyclic)\n",
    "train=one.transform(X_train_cyclic)\n",
    "\n",
    "print('train data set has got {} rows and {} columns'.format(train.shape[0],train.shape[1]))"
   ]
  },
  {
   "cell_type": "code",
   "execution_count": 97,
   "metadata": {},
   "outputs": [
    {
     "name": "stderr",
     "output_type": "stream",
     "text": [
      "C:\\Users\\Navanil\\Anaconda3\\lib\\site-packages\\sklearn\\linear_model\\logistic.py:432: FutureWarning: Default solver will be changed to 'lbfgs' in 0.22. Specify a solver to silence this warning.\n",
      "  FutureWarning)\n"
     ]
    },
    {
     "name": "stdout",
     "output_type": "stream",
     "text": [
      "Accuracy :  0.7593666666666666\n"
     ]
    }
   ],
   "source": [
    "logistic(train,y)"
   ]
  },
  {
   "cell_type": "code",
   "execution_count": 104,
   "metadata": {},
   "outputs": [
    {
     "name": "stdout",
     "output_type": "stream",
     "text": [
      "Wall time: 4min 44s\n"
     ]
    }
   ],
   "source": [
    "%%time\n",
    "\n",
    "X_target=df_train.copy()\n",
    "X_target['day']=X_target['day'].astype('object')\n",
    "X_target['month']=X_target['month'].astype('object')\n",
    "for col in X_target.columns:\n",
    "    if (X_target[col].dtype=='object'):\n",
    "        target= dict ( X_target.groupby(col)['target'].agg('sum')/X_target.groupby(col)['target'].agg('count'))\n",
    "        X_target[col]=X_target[col].replace(target).values\n",
    "        "
   ]
  },
  {
   "cell_type": "code",
   "execution_count": 105,
   "metadata": {},
   "outputs": [
    {
     "data": {
      "text/html": [
       "<div>\n",
       "<style scoped>\n",
       "    .dataframe tbody tr th:only-of-type {\n",
       "        vertical-align: middle;\n",
       "    }\n",
       "\n",
       "    .dataframe tbody tr th {\n",
       "        vertical-align: top;\n",
       "    }\n",
       "\n",
       "    .dataframe thead th {\n",
       "        text-align: right;\n",
       "    }\n",
       "</style>\n",
       "<table border=\"1\" class=\"dataframe\">\n",
       "  <thead>\n",
       "    <tr style=\"text-align: right;\">\n",
       "      <th></th>\n",
       "      <th>id</th>\n",
       "      <th>bin_0</th>\n",
       "      <th>bin_1</th>\n",
       "      <th>bin_2</th>\n",
       "      <th>bin_3</th>\n",
       "      <th>bin_4</th>\n",
       "      <th>nom_0</th>\n",
       "      <th>nom_1</th>\n",
       "      <th>nom_2</th>\n",
       "      <th>nom_3</th>\n",
       "      <th>...</th>\n",
       "      <th>nom_9</th>\n",
       "      <th>ord_0</th>\n",
       "      <th>ord_1</th>\n",
       "      <th>ord_2</th>\n",
       "      <th>ord_3</th>\n",
       "      <th>ord_4</th>\n",
       "      <th>ord_5</th>\n",
       "      <th>day</th>\n",
       "      <th>month</th>\n",
       "      <th>target</th>\n",
       "    </tr>\n",
       "  </thead>\n",
       "  <tbody>\n",
       "    <tr>\n",
       "      <th>0</th>\n",
       "      <td>0</td>\n",
       "      <td>0</td>\n",
       "      <td>0</td>\n",
       "      <td>0</td>\n",
       "      <td>0.302537</td>\n",
       "      <td>0.290107</td>\n",
       "      <td>0.327145</td>\n",
       "      <td>0.360978</td>\n",
       "      <td>0.307162</td>\n",
       "      <td>0.242813</td>\n",
       "      <td>...</td>\n",
       "      <td>0.368421</td>\n",
       "      <td>2</td>\n",
       "      <td>0.403885</td>\n",
       "      <td>0.257877</td>\n",
       "      <td>0.306993</td>\n",
       "      <td>0.208354</td>\n",
       "      <td>0.401186</td>\n",
       "      <td>0.322048</td>\n",
       "      <td>0.244432</td>\n",
       "      <td>0</td>\n",
       "    </tr>\n",
       "    <tr>\n",
       "      <th>1</th>\n",
       "      <td>1</td>\n",
       "      <td>0</td>\n",
       "      <td>1</td>\n",
       "      <td>0</td>\n",
       "      <td>0.302537</td>\n",
       "      <td>0.290107</td>\n",
       "      <td>0.327145</td>\n",
       "      <td>0.290054</td>\n",
       "      <td>0.359209</td>\n",
       "      <td>0.289954</td>\n",
       "      <td>...</td>\n",
       "      <td>0.076923</td>\n",
       "      <td>1</td>\n",
       "      <td>0.403885</td>\n",
       "      <td>0.326315</td>\n",
       "      <td>0.206599</td>\n",
       "      <td>0.186877</td>\n",
       "      <td>0.303880</td>\n",
       "      <td>0.340292</td>\n",
       "      <td>0.327496</td>\n",
       "      <td>0</td>\n",
       "    </tr>\n",
       "    <tr>\n",
       "      <th>2</th>\n",
       "      <td>2</td>\n",
       "      <td>0</td>\n",
       "      <td>0</td>\n",
       "      <td>0</td>\n",
       "      <td>0.309384</td>\n",
       "      <td>0.290107</td>\n",
       "      <td>0.241790</td>\n",
       "      <td>0.290054</td>\n",
       "      <td>0.293085</td>\n",
       "      <td>0.289954</td>\n",
       "      <td>...</td>\n",
       "      <td>0.172414</td>\n",
       "      <td>1</td>\n",
       "      <td>0.317175</td>\n",
       "      <td>0.403126</td>\n",
       "      <td>0.306993</td>\n",
       "      <td>0.351864</td>\n",
       "      <td>0.206843</td>\n",
       "      <td>0.340292</td>\n",
       "      <td>0.244432</td>\n",
       "      <td>0</td>\n",
       "    </tr>\n",
       "    <tr>\n",
       "      <th>3</th>\n",
       "      <td>3</td>\n",
       "      <td>0</td>\n",
       "      <td>1</td>\n",
       "      <td>0</td>\n",
       "      <td>0.309384</td>\n",
       "      <td>0.290107</td>\n",
       "      <td>0.351052</td>\n",
       "      <td>0.290054</td>\n",
       "      <td>0.307162</td>\n",
       "      <td>0.339793</td>\n",
       "      <td>...</td>\n",
       "      <td>0.227273</td>\n",
       "      <td>1</td>\n",
       "      <td>0.403885</td>\n",
       "      <td>0.360961</td>\n",
       "      <td>0.330148</td>\n",
       "      <td>0.208354</td>\n",
       "      <td>0.355985</td>\n",
       "      <td>0.322048</td>\n",
       "      <td>0.255729</td>\n",
       "      <td>1</td>\n",
       "    </tr>\n",
       "  </tbody>\n",
       "</table>\n",
       "<p>4 rows × 25 columns</p>\n",
       "</div>"
      ],
      "text/plain": [
       "   id  bin_0  bin_1  bin_2     bin_3     bin_4     nom_0     nom_1     nom_2  \\\n",
       "0   0      0      0      0  0.302537  0.290107  0.327145  0.360978  0.307162   \n",
       "1   1      0      1      0  0.302537  0.290107  0.327145  0.290054  0.359209   \n",
       "2   2      0      0      0  0.309384  0.290107  0.241790  0.290054  0.293085   \n",
       "3   3      0      1      0  0.309384  0.290107  0.351052  0.290054  0.307162   \n",
       "\n",
       "      nom_3  ...     nom_9  ord_0     ord_1     ord_2     ord_3     ord_4  \\\n",
       "0  0.242813  ...  0.368421      2  0.403885  0.257877  0.306993  0.208354   \n",
       "1  0.289954  ...  0.076923      1  0.403885  0.326315  0.206599  0.186877   \n",
       "2  0.289954  ...  0.172414      1  0.317175  0.403126  0.306993  0.351864   \n",
       "3  0.339793  ...  0.227273      1  0.403885  0.360961  0.330148  0.208354   \n",
       "\n",
       "      ord_5       day     month  target  \n",
       "0  0.401186  0.322048  0.244432       0  \n",
       "1  0.303880  0.340292  0.327496       0  \n",
       "2  0.206843  0.340292  0.244432       0  \n",
       "3  0.355985  0.322048  0.255729       1  \n",
       "\n",
       "[4 rows x 25 columns]"
      ]
     },
     "execution_count": 105,
     "metadata": {},
     "output_type": "execute_result"
    }
   ],
   "source": [
    "X_target.head(4)"
   ]
  },
  {
   "cell_type": "code",
   "execution_count": 106,
   "metadata": {},
   "outputs": [
    {
     "name": "stderr",
     "output_type": "stream",
     "text": [
      "C:\\Users\\Navanil\\Anaconda3\\lib\\site-packages\\sklearn\\linear_model\\logistic.py:432: FutureWarning: Default solver will be changed to 'lbfgs' in 0.22. Specify a solver to silence this warning.\n",
      "  FutureWarning)\n"
     ]
    },
    {
     "name": "stdout",
     "output_type": "stream",
     "text": [
      "Accuracy :  0.6946166666666667\n"
     ]
    }
   ],
   "source": [
    "logistic(X_target.drop('target',axis=1),y)"
   ]
  },
  {
   "cell_type": "code",
   "execution_count": 107,
   "metadata": {},
   "outputs": [],
   "source": [
    "X['target']=y\n",
    "cols=X.drop(['target','id'],axis=1).columns"
   ]
  },
  {
   "cell_type": "code",
   "execution_count": 108,
   "metadata": {},
   "outputs": [
    {
     "name": "stdout",
     "output_type": "stream",
     "text": [
      "Wall time: 4min 16s\n"
     ]
    }
   ],
   "source": [
    "%%time\n",
    "\n",
    "X_fold=X.copy()\n",
    "X_fold[['ord_0','day','month']]=X_fold[['ord_0','day','month']].astype('object')\n",
    "X_fold[['bin_3','bin_4']]=X_fold[['bin_3','bin_4']].replace({'Y':1,'N':0,'T':1,\"F\":0})\n",
    "kf = KFold(n_splits = 5, shuffle = False, random_state=2019)\n",
    "for train_ind,val_ind in kf.split(X):\n",
    "    for col in cols:\n",
    "        if(X_fold[col].dtype=='object'):\n",
    "            replaced=dict(X.iloc[train_ind][[col,'target']].groupby(col)['target'].mean())\n",
    "            X_fold.loc[val_ind,col]=X_fold.iloc[val_ind][col].replace(replaced).values\n"
   ]
  },
  {
   "cell_type": "code",
   "execution_count": 109,
   "metadata": {},
   "outputs": [
    {
     "data": {
      "text/html": [
       "<div>\n",
       "<style scoped>\n",
       "    .dataframe tbody tr th:only-of-type {\n",
       "        vertical-align: middle;\n",
       "    }\n",
       "\n",
       "    .dataframe tbody tr th {\n",
       "        vertical-align: top;\n",
       "    }\n",
       "\n",
       "    .dataframe thead th {\n",
       "        text-align: right;\n",
       "    }\n",
       "</style>\n",
       "<table border=\"1\" class=\"dataframe\">\n",
       "  <thead>\n",
       "    <tr style=\"text-align: right;\">\n",
       "      <th></th>\n",
       "      <th>id</th>\n",
       "      <th>bin_0</th>\n",
       "      <th>bin_1</th>\n",
       "      <th>bin_2</th>\n",
       "      <th>bin_3</th>\n",
       "      <th>bin_4</th>\n",
       "      <th>nom_0</th>\n",
       "      <th>nom_1</th>\n",
       "      <th>nom_2</th>\n",
       "      <th>nom_3</th>\n",
       "      <th>...</th>\n",
       "      <th>nom_9</th>\n",
       "      <th>ord_0</th>\n",
       "      <th>ord_1</th>\n",
       "      <th>ord_2</th>\n",
       "      <th>ord_3</th>\n",
       "      <th>ord_4</th>\n",
       "      <th>ord_5</th>\n",
       "      <th>day</th>\n",
       "      <th>month</th>\n",
       "      <th>target</th>\n",
       "    </tr>\n",
       "  </thead>\n",
       "  <tbody>\n",
       "    <tr>\n",
       "      <th>0</th>\n",
       "      <td>0</td>\n",
       "      <td>0</td>\n",
       "      <td>0</td>\n",
       "      <td>0</td>\n",
       "      <td>1</td>\n",
       "      <td>1</td>\n",
       "      <td>0.327356</td>\n",
       "      <td>0.360281</td>\n",
       "      <td>0.305929</td>\n",
       "      <td>0.24171</td>\n",
       "      <td>...</td>\n",
       "      <td>0.5</td>\n",
       "      <td>0.334926</td>\n",
       "      <td>0.403542</td>\n",
       "      <td>0.259103</td>\n",
       "      <td>0.307031</td>\n",
       "      <td>0.211418</td>\n",
       "      <td>0.412888</td>\n",
       "      <td>0.323473</td>\n",
       "      <td>0.244538</td>\n",
       "      <td>0</td>\n",
       "    </tr>\n",
       "    <tr>\n",
       "      <th>1</th>\n",
       "      <td>1</td>\n",
       "      <td>0</td>\n",
       "      <td>1</td>\n",
       "      <td>0</td>\n",
       "      <td>1</td>\n",
       "      <td>1</td>\n",
       "      <td>0.327356</td>\n",
       "      <td>0.290501</td>\n",
       "      <td>0.358107</td>\n",
       "      <td>0.289501</td>\n",
       "      <td>...</td>\n",
       "      <td>0.125</td>\n",
       "      <td>0.278366</td>\n",
       "      <td>0.403542</td>\n",
       "      <td>0.327796</td>\n",
       "      <td>0.208194</td>\n",
       "      <td>0.185704</td>\n",
       "      <td>0.293144</td>\n",
       "      <td>0.341711</td>\n",
       "      <td>0.327219</td>\n",
       "      <td>0</td>\n",
       "    </tr>\n",
       "    <tr>\n",
       "      <th>2</th>\n",
       "      <td>2</td>\n",
       "      <td>0</td>\n",
       "      <td>0</td>\n",
       "      <td>0</td>\n",
       "      <td>0</td>\n",
       "      <td>1</td>\n",
       "      <td>0.242135</td>\n",
       "      <td>0.290501</td>\n",
       "      <td>0.293881</td>\n",
       "      <td>0.289501</td>\n",
       "      <td>...</td>\n",
       "      <td>0.166667</td>\n",
       "      <td>0.278366</td>\n",
       "      <td>0.316665</td>\n",
       "      <td>0.402135</td>\n",
       "      <td>0.307031</td>\n",
       "      <td>0.354919</td>\n",
       "      <td>0.208748</td>\n",
       "      <td>0.341711</td>\n",
       "      <td>0.244538</td>\n",
       "      <td>0</td>\n",
       "    </tr>\n",
       "    <tr>\n",
       "      <th>3</th>\n",
       "      <td>3</td>\n",
       "      <td>0</td>\n",
       "      <td>1</td>\n",
       "      <td>0</td>\n",
       "      <td>0</td>\n",
       "      <td>1</td>\n",
       "      <td>0.350536</td>\n",
       "      <td>0.290501</td>\n",
       "      <td>0.305929</td>\n",
       "      <td>0.340791</td>\n",
       "      <td>...</td>\n",
       "      <td>0.233333</td>\n",
       "      <td>0.278366</td>\n",
       "      <td>0.403542</td>\n",
       "      <td>0.361036</td>\n",
       "      <td>0.330519</td>\n",
       "      <td>0.211418</td>\n",
       "      <td>0.358066</td>\n",
       "      <td>0.323473</td>\n",
       "      <td>0.255791</td>\n",
       "      <td>1</td>\n",
       "    </tr>\n",
       "    <tr>\n",
       "      <th>4</th>\n",
       "      <td>4</td>\n",
       "      <td>0</td>\n",
       "      <td>0</td>\n",
       "      <td>0</td>\n",
       "      <td>0</td>\n",
       "      <td>0</td>\n",
       "      <td>0.350536</td>\n",
       "      <td>0.290501</td>\n",
       "      <td>0.293881</td>\n",
       "      <td>0.340791</td>\n",
       "      <td>...</td>\n",
       "      <td>0.137931</td>\n",
       "      <td>0.278366</td>\n",
       "      <td>0.403542</td>\n",
       "      <td>0.225265</td>\n",
       "      <td>0.208194</td>\n",
       "      <td>0.354919</td>\n",
       "      <td>0.410066</td>\n",
       "      <td>0.341711</td>\n",
       "      <td>0.327219</td>\n",
       "      <td>0</td>\n",
       "    </tr>\n",
       "  </tbody>\n",
       "</table>\n",
       "<p>5 rows × 25 columns</p>\n",
       "</div>"
      ],
      "text/plain": [
       "   id  bin_0  bin_1  bin_2  bin_3  bin_4     nom_0     nom_1     nom_2  \\\n",
       "0   0      0      0      0      1      1  0.327356  0.360281  0.305929   \n",
       "1   1      0      1      0      1      1  0.327356  0.290501  0.358107   \n",
       "2   2      0      0      0      0      1  0.242135  0.290501  0.293881   \n",
       "3   3      0      1      0      0      1  0.350536  0.290501  0.305929   \n",
       "4   4      0      0      0      0      0  0.350536  0.290501  0.293881   \n",
       "\n",
       "      nom_3  ...     nom_9     ord_0     ord_1     ord_2     ord_3     ord_4  \\\n",
       "0   0.24171  ...       0.5  0.334926  0.403542  0.259103  0.307031  0.211418   \n",
       "1  0.289501  ...     0.125  0.278366  0.403542  0.327796  0.208194  0.185704   \n",
       "2  0.289501  ...  0.166667  0.278366  0.316665  0.402135  0.307031  0.354919   \n",
       "3  0.340791  ...  0.233333  0.278366  0.403542  0.361036  0.330519  0.211418   \n",
       "4  0.340791  ...  0.137931  0.278366  0.403542  0.225265  0.208194  0.354919   \n",
       "\n",
       "      ord_5       day     month target  \n",
       "0  0.412888  0.323473  0.244538      0  \n",
       "1  0.293144  0.341711  0.327219      0  \n",
       "2  0.208748  0.341711  0.244538      0  \n",
       "3  0.358066  0.323473  0.255791      1  \n",
       "4  0.410066  0.341711  0.327219      0  \n",
       "\n",
       "[5 rows x 25 columns]"
      ]
     },
     "execution_count": 109,
     "metadata": {},
     "output_type": "execute_result"
    }
   ],
   "source": [
    "X_fold.head()"
   ]
  },
  {
   "cell_type": "code",
   "execution_count": null,
   "metadata": {},
   "outputs": [],
   "source": []
  }
 ],
 "metadata": {
  "kernelspec": {
   "display_name": "Python 3",
   "language": "python",
   "name": "python3"
  },
  "language_info": {
   "codemirror_mode": {
    "name": "ipython",
    "version": 3
   },
   "file_extension": ".py",
   "mimetype": "text/x-python",
   "name": "python",
   "nbconvert_exporter": "python",
   "pygments_lexer": "ipython3",
   "version": "3.7.3"
  }
 },
 "nbformat": 4,
 "nbformat_minor": 2
}
